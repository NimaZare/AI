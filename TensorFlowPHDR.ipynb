{
  "nbformat": 4,
  "nbformat_minor": 0,
  "metadata": {
    "colab": {
      "provenance": [],
      "gpuType": "T4",
      "collapsed_sections": [
        "snllxbOwmYl8",
        "PBmywPpyhBTd",
        "KYsJemOehIAj",
        "a7vulX3Uh9TD"
      ],
      "mount_file_id": "1w4TejvRP77QeKo6Q4TJ8VHCUnNDFf4o_",
      "authorship_tag": "ABX9TyNrbK/f1WnwUyWfo1F19e7f",
      "include_colab_link": true
    },
    "kernelspec": {
      "name": "python3",
      "display_name": "Python 3"
    },
    "language_info": {
      "name": "python"
    },
    "accelerator": "GPU"
  },
  "cells": [
    {
      "cell_type": "markdown",
      "metadata": {
        "id": "view-in-github",
        "colab_type": "text"
      },
      "source": [
        "<a href=\"https://colab.research.google.com/github/NimaZare/AI/blob/main/TensorFlowPHDR.ipynb\" target=\"_parent\"><img src=\"https://colab.research.google.com/assets/colab-badge.svg\" alt=\"Open In Colab\"/></a>"
      ]
    },
    {
      "cell_type": "markdown",
      "source": [
        "# **Train Model**"
      ],
      "metadata": {
        "id": "snllxbOwmYl8"
      }
    },
    {
      "cell_type": "markdown",
      "source": [
        "## **Upload Dataset**"
      ],
      "metadata": {
        "id": "PBmywPpyhBTd"
      }
    },
    {
      "cell_type": "code",
      "source": [
        "!unzip /content/drive/MyDrive/Datasets/PersianDigits/persian_handwrite_numbers.zip -d /content/dataset"
      ],
      "metadata": {
        "id": "N-qs-DbXeqe6"
      },
      "execution_count": null,
      "outputs": []
    },
    {
      "cell_type": "markdown",
      "source": [
        "## **Install Libraries**"
      ],
      "metadata": {
        "id": "KYsJemOehIAj"
      }
    },
    {
      "cell_type": "code",
      "source": [
        "!pip install tensorflow scikit-learn"
      ],
      "metadata": {
        "id": "ckiXatbhecVa"
      },
      "execution_count": null,
      "outputs": []
    },
    {
      "cell_type": "markdown",
      "source": [
        "## **Main Code**"
      ],
      "metadata": {
        "id": "a7vulX3Uh9TD"
      }
    },
    {
      "cell_type": "code",
      "execution_count": null,
      "metadata": {
        "id": "bEY83xAqd5kN"
      },
      "outputs": [],
      "source": [
        "import os\n",
        "import numpy as np\n",
        "import tensorflow as tf\n",
        "from tensorflow.keras import layers, models\n",
        "from sklearn.model_selection import train_test_split\n",
        "from tensorflow.keras.utils import to_categorical\n",
        "from tensorflow.keras.models import save_model\n",
        "from google.colab import files"
      ]
    },
    {
      "cell_type": "code",
      "source": [
        "# Load and Preprocess the Dataset\n",
        "\n",
        "dataset_path = \"/content/dataset\"\n",
        "num_classes = 10\n",
        "\n",
        "def load_dataset(folder_path):\n",
        "    images = []\n",
        "    labels = []\n",
        "    for class_name in os.listdir(folder_path):\n",
        "        class_path = os.path.join(folder_path, class_name)\n",
        "        if os.path.isdir(class_path):\n",
        "            class_label = int(class_name)\n",
        "            for image_name in os.listdir(class_path):\n",
        "                image_path = os.path.join(class_path, image_name)\n",
        "                image = tf.keras.preprocessing.image.load_img(image_path, color_mode='grayscale', target_size=(28, 28))\n",
        "                image_array = tf.keras.preprocessing.image.img_to_array(image)\n",
        "                images.append(image_array)\n",
        "                labels.append(class_label)\n",
        "    return np.array(images), np.array(labels)\n",
        "\n",
        "images, labels = load_dataset(dataset_path)\n",
        "images = images / 255.0\n",
        "labels = to_categorical(labels, num_classes)\n",
        "\n",
        "# Split the Dataset for Train & Test Data\n",
        "\n",
        "train_images, test_images, train_labels, test_labels = train_test_split(images, labels, test_size=0.2, random_state=42)\n",
        "\n",
        "# Define the Model Architecture (CNN)\n",
        "\n",
        "model = models.Sequential([\n",
        "    layers.Conv2D(32, (3, 3), activation='relu', input_shape=(28, 28, 1)),\n",
        "    layers.MaxPooling2D((2, 2)),\n",
        "    layers.Conv2D(64, (3, 3), activation='relu'),\n",
        "    layers.MaxPooling2D((2, 2)),\n",
        "    layers.Conv2D(64, (3, 3), activation='relu'),\n",
        "    layers.Flatten(),\n",
        "    layers.Dense(64, activation='relu'),\n",
        "    layers.Dense(num_classes, activation='softmax')\n",
        "])\n",
        "\n",
        "# Compile and Train the Model\n",
        "\n",
        "model.compile(optimizer='adam',\n",
        "              loss='categorical_crossentropy',\n",
        "              metrics=['accuracy'])\n",
        "\n",
        "model.fit(train_images, train_labels, epochs=10, batch_size=64, validation_data=(test_images, test_labels))\n",
        "\n",
        "# Evaluate the Model\n",
        "\n",
        "test_loss, test_accuracy = model.evaluate(test_images, test_labels)\n",
        "print(\"Test accuracy: \", test_accuracy)\n",
        "\n",
        "# Save the Model\n",
        "\n",
        "model.save(\"nima_handwritten_digit_model.h5\")\n",
        "files.download('nima_handwritten_digit_model.h5')"
      ],
      "metadata": {
        "id": "4_NaqsLceEwS",
        "colab": {
          "base_uri": "https://localhost:8080/",
          "height": 419
        },
        "outputId": "d6c7fc63-48e9-4952-9d4d-0aeaecbaffc1"
      },
      "execution_count": null,
      "outputs": [
        {
          "output_type": "stream",
          "name": "stdout",
          "text": [
            "Epoch 1/10\n",
            "1000/1000 [==============================] - 18s 5ms/step - loss: 0.1693 - accuracy: 0.9474 - val_loss: 0.0597 - val_accuracy: 0.9826\n",
            "Epoch 2/10\n",
            "1000/1000 [==============================] - 6s 6ms/step - loss: 0.0489 - accuracy: 0.9844 - val_loss: 0.0500 - val_accuracy: 0.9834\n",
            "Epoch 3/10\n",
            "1000/1000 [==============================] - 5s 5ms/step - loss: 0.0350 - accuracy: 0.9884 - val_loss: 0.0391 - val_accuracy: 0.9877\n",
            "Epoch 4/10\n",
            "1000/1000 [==============================] - 5s 5ms/step - loss: 0.0280 - accuracy: 0.9908 - val_loss: 0.0278 - val_accuracy: 0.9912\n",
            "Epoch 5/10\n",
            "1000/1000 [==============================] - 5s 5ms/step - loss: 0.0228 - accuracy: 0.9921 - val_loss: 0.0260 - val_accuracy: 0.9919\n",
            "Epoch 6/10\n",
            "1000/1000 [==============================] - 5s 5ms/step - loss: 0.0185 - accuracy: 0.9938 - val_loss: 0.0295 - val_accuracy: 0.9914\n",
            "Epoch 7/10\n",
            "1000/1000 [==============================] - 5s 5ms/step - loss: 0.0142 - accuracy: 0.9954 - val_loss: 0.0282 - val_accuracy: 0.9918\n",
            "Epoch 8/10\n",
            "1000/1000 [==============================] - 6s 6ms/step - loss: 0.0132 - accuracy: 0.9958 - val_loss: 0.0305 - val_accuracy: 0.9904\n",
            "Epoch 9/10\n",
            "1000/1000 [==============================] - 4s 4ms/step - loss: 0.0109 - accuracy: 0.9965 - val_loss: 0.0291 - val_accuracy: 0.9923\n",
            "Epoch 10/10\n",
            "1000/1000 [==============================] - 5s 5ms/step - loss: 0.0094 - accuracy: 0.9968 - val_loss: 0.0289 - val_accuracy: 0.9925\n",
            "500/500 [==============================] - 2s 4ms/step - loss: 0.0289 - accuracy: 0.9925\n",
            "Test accuracy: 0.9925000071525574\n"
          ]
        },
        {
          "output_type": "display_data",
          "data": {
            "text/plain": [
              "<IPython.core.display.Javascript object>"
            ],
            "application/javascript": [
              "\n",
              "    async function download(id, filename, size) {\n",
              "      if (!google.colab.kernel.accessAllowed) {\n",
              "        return;\n",
              "      }\n",
              "      const div = document.createElement('div');\n",
              "      const label = document.createElement('label');\n",
              "      label.textContent = `Downloading \"${filename}\": `;\n",
              "      div.appendChild(label);\n",
              "      const progress = document.createElement('progress');\n",
              "      progress.max = size;\n",
              "      div.appendChild(progress);\n",
              "      document.body.appendChild(div);\n",
              "\n",
              "      const buffers = [];\n",
              "      let downloaded = 0;\n",
              "\n",
              "      const channel = await google.colab.kernel.comms.open(id);\n",
              "      // Send a message to notify the kernel that we're ready.\n",
              "      channel.send({})\n",
              "\n",
              "      for await (const message of channel.messages) {\n",
              "        // Send a message to notify the kernel that we're ready.\n",
              "        channel.send({})\n",
              "        if (message.buffers) {\n",
              "          for (const buffer of message.buffers) {\n",
              "            buffers.push(buffer);\n",
              "            downloaded += buffer.byteLength;\n",
              "            progress.value = downloaded;\n",
              "          }\n",
              "        }\n",
              "      }\n",
              "      const blob = new Blob(buffers, {type: 'application/binary'});\n",
              "      const a = document.createElement('a');\n",
              "      a.href = window.URL.createObjectURL(blob);\n",
              "      a.download = filename;\n",
              "      div.appendChild(a);\n",
              "      a.click();\n",
              "      div.remove();\n",
              "    }\n",
              "  "
            ]
          },
          "metadata": {}
        },
        {
          "output_type": "display_data",
          "data": {
            "text/plain": [
              "<IPython.core.display.Javascript object>"
            ],
            "application/javascript": [
              "download(\"download_823f5cab-88e5-4e2d-b479-9fa2f2fefbed\", \"nima_handwritten_digit_model.h5\", 1172080)"
            ]
          },
          "metadata": {}
        }
      ]
    },
    {
      "cell_type": "markdown",
      "source": [
        "# **Test & Use Model**"
      ],
      "metadata": {
        "id": "wADQquyUiEng"
      }
    },
    {
      "cell_type": "code",
      "source": [
        "import cv2\n",
        "import numpy as np\n",
        "from tensorflow.keras.models import load_model"
      ],
      "metadata": {
        "id": "RPIftEiTiMAC"
      },
      "execution_count": 4,
      "outputs": []
    },
    {
      "cell_type": "code",
      "source": [
        "# Load the trained model\n",
        "model = load_model('/content/drive/MyDrive/Models/nima_handwritten_digit_model.h5')\n",
        "\n",
        "# Preprocess the input image\n",
        "def preprocess_image(image_path):\n",
        "    image = cv2.imread(image_path, cv2.IMREAD_GRAYSCALE)\n",
        "    image = cv2.resize(image, (28, 28))\n",
        "    image = image.astype('float32') / 255.0\n",
        "    image = np.expand_dims(image, axis=0)\n",
        "    return image\n",
        "\n",
        "image_path = '/content/0121.png'\n",
        "input_image = preprocess_image(image_path)\n",
        "\n",
        "# Make predictions\n",
        "prediction = model.predict(input_image)\n",
        "predicted_label = np.argmax(prediction)\n",
        "\n",
        "print(\"Predicted Label: \", predicted_label)\n"
      ],
      "metadata": {
        "id": "3dncHlVgiIdi",
        "colab": {
          "base_uri": "https://localhost:8080/"
        },
        "outputId": "ece2a1f6-9a11-463b-d26b-451c58ea412a"
      },
      "execution_count": 7,
      "outputs": [
        {
          "output_type": "stream",
          "name": "stdout",
          "text": [
            "1/1 [==============================] - 0s 95ms/step\n",
            "Predicted Label:  7\n"
          ]
        }
      ]
    }
  ]
}